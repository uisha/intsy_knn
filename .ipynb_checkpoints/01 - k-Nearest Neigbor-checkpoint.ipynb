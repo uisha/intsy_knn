{
 "cells": [
  {
   "cell_type": "markdown",
   "metadata": {
    "id": "k9adLHgoDdtL"
   },
   "source": [
    "# k-Nearest Neighbor (kNN) exercise\n",
    "\n",
    "The kNN classifier consists of two stages:\n",
    "\n",
    "- During training, the classifier takes the training data and simply remembers it\n",
    "- During testing, kNN classifies every test image by comparing to all training images and transfering the labels of the k most similar training examples\n",
    "- The value of k is cross-validated\n",
    "\n",
    "In this exercise you will implement these steps and understand the basic classification pipeline, and cross-validation."
   ]
  },
  {
   "cell_type": "markdown",
   "metadata": {
    "id": "NsE4cTsEDdtM"
   },
   "source": [
    "## Instructions for All Labs\n",
    "* Read each cell and implement the TODOs sequentially. The markdown/text cells also contain instructions which you need to follow to get the whole notebook working.\n",
    "* Do not change the variable names unless the instructor allows you to.\n",
    "* Some markdown cells contain questions.\n",
    "  * For questions <span style=\"color:red;\">colored in red</span>, you must submit your answers in the corresponding Assignment in the course page. Make sure that you enter your responses in the item with the matching question code. Answers that do not follow the prescribed format will automatically be marked wrong by the checker.\n",
    "  * For questions <span style=\"color:green;\">colored in green</span>, you don't have to submit your answers, but you must think about these questions as they will help enrich your understanding of the concepts covered in the labs.\n",
    "* You are expected to search how to some functions work on the Internet or via the docs. \n",
    "* You may add new cells for \"scrap work\".\n",
    "* The notebooks will undergo a \"Restart and Run All\" command, so make sure that your code is working properly.\n",
    "* You may not reproduce this notebook or share them to anyone."
   ]
  },
  {
   "cell_type": "markdown",
   "metadata": {
    "id": "ogG6aOSLDdtN"
   },
   "source": [
    "Run some setup code for this notebook:"
   ]
  },
  {
   "cell_type": "code",
   "execution_count": null,
   "metadata": {
    "id": "H_l-uDTsDdtO"
   },
   "outputs": [],
   "source": [
    "import random\n",
    "import numpy as np\n",
    "import pickle\n",
    "import os\n",
    "import matplotlib.pyplot as plt\n",
    "# Makes matplotlib figures appear inline in the notebook\n",
    "# rather than in a new window.\n",
    "%matplotlib inline\n",
    "\n",
    "plt.rcParams['figure.figsize'] = (6.0, 6.0) # set default size of plots\n",
    "plt.rcParams['image.interpolation'] = 'nearest'\n",
    "plt.rcParams['image.cmap'] = 'gray'\n",
    "\n",
    "# autoreload external python modules;\n",
    "# see http://stackoverflow.com/questions/1907993/autoreload-of-modules-in-ipython\n",
    "%load_ext autoreload\n",
    "%autoreload 2"
   ]
  },
  {
   "cell_type": "markdown",
   "metadata": {
    "id": "vGpgkYupDdtW"
   },
   "source": [
    "## Playing with a small dataset \n",
    "\n",
    "Let's create a simple dataset and see how a kNN classifier will classify it. In this exercise, let's have two class labels 0 and 1, or y = {0,1}\n",
    "\n",
    "Let's first create the X (features) of y=0. We can do this by randomly choosing datapoints with the function `np.random.randn()`:\n",
    "```python\n",
    "np.random.randn(rows, cols) * variance + mean\n",
    "```"
   ]
  },
  {
   "cell_type": "markdown",
   "metadata": {
    "id": "fOkr5F0YDdtY"
   },
   "source": [
    "Create 10 entries (rows) with 2 features (columns: x and y coordinates) for `y=0`. Set the mean to 3 and variance to 1.5. Assign the return value to variable `X_train_zeros`."
   ]
  },
  {
   "cell_type": "code",
   "execution_count": null,
   "metadata": {
    "id": "-ldarGasDdtZ",
    "outputId": "1e991657-a479-454b-a140-b813eeaaaf5f"
   },
   "outputs": [],
   "source": [
    "np.random.seed(0)\n",
    "\n",
    "# Write your code here\n"
   ]
  },
  {
   "cell_type": "markdown",
   "metadata": {
    "id": "ndJSXNjoDdta"
   },
   "source": [
    "Create 10 entries (rows) with 2 features (columns) for `y=1`. Set the mean to 1 and variance to 1.5. Assign the return value to variable `X_train_ones`."
   ]
  },
  {
   "cell_type": "code",
   "execution_count": null,
   "metadata": {
    "id": "cksi-XqoDdtc"
   },
   "outputs": [],
   "source": [
    "np.random.seed(0)\n",
    "\n",
    "# Write your code here\n"
   ]
  },
  {
   "cell_type": "markdown",
   "metadata": {
    "id": "01qGodNGDdtc"
   },
   "source": [
    "Print the generated numbers."
   ]
  },
  {
   "cell_type": "code",
   "execution_count": null,
   "metadata": {
    "id": "gfVysgZlDdtd",
    "outputId": "a6a91db0-7fbd-442e-ba48-98dbcabe6fc3",
    "scrolled": false
   },
   "outputs": [],
   "source": [
    "print(\"Class 0 \\n\" + str(X_train_zeros))\n",
    "print(\"Class 1 \\n\" + str(X_train_ones))"
   ]
  },
  {
   "cell_type": "markdown",
   "metadata": {
    "id": "2FTTty9vDdtd"
   },
   "source": [
    "### Visualize\n",
    "Plot the generated data in a chart using the function `plt.plot()`."
   ]
  },
  {
   "cell_type": "markdown",
   "metadata": {
    "id": "pF24cbXiDdtd"
   },
   "source": [
    "Format: `plt.plot(x, y, character/symbol)`."
   ]
  },
  {
   "cell_type": "markdown",
   "metadata": {
    "id": "QZ2jq-2-Ddte"
   },
   "source": [
    "`X_train_zeros[:, col]` gets all the rows and column col. The `bo` parameter marks these points as blue circles. The `ro` parameter marks these points as red circles"
   ]
  },
  {
   "cell_type": "code",
   "execution_count": null,
   "metadata": {
    "id": "FRhlAyUSDdtf",
    "outputId": "e6cb2db4-2778-40c3-a131-264427e65d0d"
   },
   "outputs": [],
   "source": [
    "plt.plot(X_train_zeros[:, 0], X_train_zeros[:, 1], 'bo')\n",
    "plt.plot(X_train_ones[:, 0], X_train_ones[:, 1], 'ro')"
   ]
  },
  {
   "cell_type": "markdown",
   "metadata": {
    "id": "TI1OspTqDdtf"
   },
   "source": [
    "So far, our data D has been split to 2 classes. Let's collate them into one `X_train`, and create `y_train` for the labels."
   ]
  },
  {
   "cell_type": "markdown",
   "metadata": {
    "id": "EL3HK82lDdtf"
   },
   "source": [
    "Combine `X_train_zeros` with `X_train_ones` to a single matrix. Use the function `np.concatenate()` to combine the two matrices. Assign the return value to variable `X_train`."
   ]
  },
  {
   "cell_type": "code",
   "execution_count": null,
   "metadata": {
    "id": "Mh4VG6XwDdtg",
    "outputId": "1cb90f5a-65e0-4173-969d-263196cb7396"
   },
   "outputs": [],
   "source": [
    "# Write your code here\n"
   ]
  },
  {
   "cell_type": "markdown",
   "metadata": {
    "id": "Nv5Krd-DDdtg"
   },
   "source": [
    "### Labels\n",
    "\n",
    "Create an array of 10 zeros for the first class `y=0`. Instead of manually creating an array, use the function `np.zeros()`. Assign the return value to variable `y_train_zeros`."
   ]
  },
  {
   "cell_type": "code",
   "execution_count": null,
   "metadata": {
    "id": "a4_5yQjoDdth",
    "outputId": "433f7cdd-ebec-4fa7-80f2-84a4c26ad9f9"
   },
   "outputs": [],
   "source": [
    "# Write your code here\n"
   ]
  },
  {
   "cell_type": "markdown",
   "metadata": {
    "id": "bOp_5r52Ddtj"
   },
   "source": [
    "Create an array of 10 ones for the first class `y=1`. Instead of manually creating an array, use the function `np.ones()`. Assign the return value to variable `y_train_ones`."
   ]
  },
  {
   "cell_type": "code",
   "execution_count": null,
   "metadata": {
    "id": "un3VL4DqDdtk",
    "outputId": "04b5e8f5-e3aa-49d4-ed6c-a3ca09a8cfb3"
   },
   "outputs": [],
   "source": [
    "# Write your code here\n"
   ]
  },
  {
   "cell_type": "markdown",
   "metadata": {
    "id": "8k4H6OX4Ddtk"
   },
   "source": [
    "Combine `y_train_zeros` with `y_train_ones` to a single array. Use the function `np.concatenate()` to combine the two arrays. Assign the return value to variable `y_train`."
   ]
  },
  {
   "cell_type": "code",
   "execution_count": null,
   "metadata": {
    "id": "U3D6FxM-Ddtl",
    "outputId": "f56d7adf-5cc6-440d-ebca-fd43f36f69ea"
   },
   "outputs": [],
   "source": [
    "# Write your code here\n"
   ]
  },
  {
   "cell_type": "markdown",
   "metadata": {},
   "source": [
    "Display the dataset."
   ]
  },
  {
   "cell_type": "code",
   "execution_count": null,
   "metadata": {
    "id": "rdFJuyRRDdtl",
    "outputId": "c337067d-3c10-484a-f208-8155e560910b"
   },
   "outputs": [],
   "source": [
    "print(\"Our data set:\")\n",
    "print(\"Features (X) \\t\\t Label (y)\")\n",
    "for i in range(len(y_train)):\n",
    "    print(str(X_train[i]) + \" \" + str(y_train[i]))"
   ]
  },
  {
   "cell_type": "markdown",
   "metadata": {
    "id": "IzWc2yxIDdtm"
   },
   "source": [
    "__Your output should look like this:__\n",
    "```\n",
    "Our data set:\n",
    "Features (X) \t\t Label (y)\n",
    "[5.64607852 3.60023581] 0.0\n",
    "[4.46810698 6.3613398 ] 0.0\n",
    "[5.80133699 1.53408318] 0.0\n",
    "...\n",
    "[1.66579485 1.50051149] 1.0\n",
    "[3.24111861 0.6922626 ] 1.0\n",
    "[ 1.46960155 -0.28114361] 1.0\n",
    "```\n",
    "\n",
    "`X_train` and `y_train` should be of length 20."
   ]
  },
  {
   "cell_type": "markdown",
   "metadata": {
    "id": "3bxmQyVMDdto"
   },
   "source": [
    "### Create a test case\n",
    "Let's add in a single test case to see how it will be classified by kNN."
   ]
  },
  {
   "cell_type": "code",
   "execution_count": null,
   "metadata": {
    "id": "lCSENUOHDdto"
   },
   "outputs": [],
   "source": [
    "X_test = np.array([[3, 3.5]])"
   ]
  },
  {
   "cell_type": "markdown",
   "metadata": {
    "id": "wB891BtvDdtp"
   },
   "source": [
    "There's a reason why this is an array inside an array. Each data point is represented by an array (currently an array of length 2). Right now, there is only one test data, but soon we may have more than one."
   ]
  },
  {
   "cell_type": "markdown",
   "metadata": {
    "id": "nL3fDpTLDdtp"
   },
   "source": [
    "Make a function that will plot the data from `y=0` with blue circles, and plot the data from `y=1` with red circles. "
   ]
  },
  {
   "cell_type": "code",
   "execution_count": null,
   "metadata": {
    "id": "A1wyTT5yDdtq",
    "outputId": "922cc628-a14c-4f5c-c6ee-cfae79f6ebf1"
   },
   "outputs": [],
   "source": [
    "def plot_train_data(train_zeros, train_ones):\n",
    "    # Write your code here\n",
    "    pass"
   ]
  },
  {
   "cell_type": "markdown",
   "metadata": {},
   "source": [
    "Call the function `plot_train_data()`."
   ]
  },
  {
   "cell_type": "code",
   "execution_count": null,
   "metadata": {},
   "outputs": [],
   "source": [
    "# Write your code here\n"
   ]
  },
  {
   "cell_type": "markdown",
   "metadata": {
    "id": "CGH8uwNRDdtr"
   },
   "source": [
    "Make a function that will plot the test case (it should appear as a black plus sign)."
   ]
  },
  {
   "cell_type": "code",
   "execution_count": null,
   "metadata": {
    "id": "sOuQS9prDdtr",
    "outputId": "55ecc6f9-9cf2-4880-97d4-8d9fceb2e712"
   },
   "outputs": [],
   "source": [
    "def plot_test_data(test):\n",
    "    # Write your code here\n",
    "    pass"
   ]
  },
  {
   "cell_type": "markdown",
   "metadata": {},
   "source": [
    "Call the function `plot_test_data()`."
   ]
  },
  {
   "cell_type": "code",
   "execution_count": null,
   "metadata": {},
   "outputs": [],
   "source": [
    "# Write your code here\n"
   ]
  },
  {
   "cell_type": "markdown",
   "metadata": {},
   "source": [
    "Display both the train and the test data."
   ]
  },
  {
   "cell_type": "code",
   "execution_count": null,
   "metadata": {
    "id": "cZHkSk_IDdtr",
    "outputId": "7b5b6a12-4da1-4041-8a35-31bc0d1bfe7f"
   },
   "outputs": [],
   "source": [
    "# Write your code here\n"
   ]
  },
  {
   "cell_type": "markdown",
   "metadata": {},
   "source": [
    "<span style=\"color:red;\">**Question 1-1**: Given the visualization, what should be the label of the test data?</span>"
   ]
  },
  {
   "cell_type": "markdown",
   "metadata": {
    "id": "BKXaWT_eDdtt"
   },
   "source": [
    "kNN gets the k nearest data points of the test case. Let's envision which nearby data points will be the nearest to our test case."
   ]
  },
  {
   "cell_type": "markdown",
   "metadata": {
    "id": "2D-EVC7TDdtt"
   },
   "source": [
    "Let's place in a radius/distance for the circle."
   ]
  },
  {
   "cell_type": "code",
   "execution_count": null,
   "metadata": {
    "id": "GXpQLR3mDdtt"
   },
   "outputs": [],
   "source": [
    "radius = 0.35"
   ]
  },
  {
   "cell_type": "markdown",
   "metadata": {
    "id": "aKfpouK6Ddtu"
   },
   "source": [
    "Then, we will use this variable to draw in a circle around our test data."
   ]
  },
  {
   "cell_type": "code",
   "execution_count": null,
   "metadata": {
    "id": "-IAMbcgcDdtv",
    "outputId": "a239d91c-5fc1-4c4e-8917-d5cdf841513a"
   },
   "outputs": [],
   "source": [
    "plot_train_data(X_train_zeros, X_train_ones)\n",
    "plot_test_data(X_test)\n",
    "\n",
    "circle = plt.Circle((X_test[:, 0], X_test[:, 1]), radius, color='k', fill=False)\n",
    "fig = plt.gcf()\n",
    "ax = fig.gca()\n",
    "ax.axis('equal')\n",
    "ax.add_artist(circle)"
   ]
  },
  {
   "cell_type": "markdown",
   "metadata": {
    "id": "RomGIE90Ddtw"
   },
   "source": [
    "<span style=\"color:red;\">**Question 1-2**: Adjust the radius until it has more than 1 data point. How will you label the new test data?</span>"
   ]
  },
  {
   "cell_type": "markdown",
   "metadata": {
    "id": "5lMfnbLrDdty"
   },
   "source": [
    "## Using scikit to create a k-nearest neighbors classifier"
   ]
  },
  {
   "cell_type": "markdown",
   "metadata": {
    "id": "WC0MK71oDdty"
   },
   "source": [
    "Now, we'll use `sklearn.neighbors.KNeighborsClassifier`."
   ]
  },
  {
   "cell_type": "markdown",
   "metadata": {},
   "source": [
    "Import the `KNeighborsClassifier` class."
   ]
  },
  {
   "cell_type": "code",
   "execution_count": null,
   "metadata": {},
   "outputs": [],
   "source": [
    "from sklearn.neighbors import KNeighborsClassifier"
   ]
  },
  {
   "cell_type": "markdown",
   "metadata": {},
   "source": [
    "Instantiate a `KNeighborsClassifier` object. Assign the object to variable `model`."
   ]
  },
  {
   "cell_type": "code",
   "execution_count": null,
   "metadata": {
    "id": "Mcv8B_pWDdtz",
    "scrolled": false
   },
   "outputs": [],
   "source": [
    "# Write your code here\n"
   ]
  },
  {
   "cell_type": "markdown",
   "metadata": {
    "id": "b-sbJ0xoDdt0"
   },
   "source": [
    "Train the model by calling the function `fit()`."
   ]
  },
  {
   "cell_type": "code",
   "execution_count": null,
   "metadata": {
    "id": "rU-OHr-eDdt0",
    "outputId": "6947a2e9-a863-428e-b849-9bee88eb7ca1"
   },
   "outputs": [],
   "source": [
    "# Write your code here\n"
   ]
  },
  {
   "cell_type": "markdown",
   "metadata": {
    "id": "1nbKFqZfDdt0"
   },
   "source": [
    "Test the model by calling the function `predict()`."
   ]
  },
  {
   "cell_type": "code",
   "execution_count": null,
   "metadata": {
    "id": "8UQbTSEcDdt1",
    "outputId": "94a31ff3-b4c4-4b3a-8c27-72ecf484e18d"
   },
   "outputs": [],
   "source": [
    "# Write your code here\n"
   ]
  },
  {
   "cell_type": "markdown",
   "metadata": {
    "id": "aDCW2iCVDdt1"
   },
   "source": [
    "The output should be the label of the data point nearest the test data. If the closest data point is blue it should say 0, and 1 if red. We highlighted the need for train results yet we do not call our model to predict on `X_train`."
   ]
  },
  {
   "cell_type": "markdown",
   "metadata": {
    "id": "B-X0EAGxDdt2"
   },
   "source": [
    "## Getting k Neighbors\n",
    "We could also get the k-nearest neighbors. Let's set the number of neighbors as 5."
   ]
  },
  {
   "cell_type": "code",
   "execution_count": null,
   "metadata": {
    "id": "hJMa0X4mDdt3",
    "scrolled": false
   },
   "outputs": [],
   "source": [
    "neighbors = 5"
   ]
  },
  {
   "cell_type": "markdown",
   "metadata": {
    "id": "tF7zWLuQDdu3"
   },
   "source": [
    "Use the function `kneighbors()` of the model to get the actual neighbors that are similar to our test data. Assign the return values to variables `distances` and `data_index`"
   ]
  },
  {
   "cell_type": "code",
   "execution_count": null,
   "metadata": {
    "id": "k_w5n6aWDdvA"
   },
   "outputs": [],
   "source": [
    "# Write your code here\n"
   ]
  },
  {
   "cell_type": "markdown",
   "metadata": {},
   "source": [
    "Display the top neighbors of the test data."
   ]
  },
  {
   "cell_type": "code",
   "execution_count": null,
   "metadata": {
    "id": "XKTiFJl8DdvC",
    "outputId": "16f84ff0-f961-4864-c8a2-05d57f0edc9c"
   },
   "outputs": [],
   "source": [
    "distances = np.squeeze(distances)\n",
    "data_index = np.squeeze(data_index)\n",
    "\n",
    "print(\"The \" + str(neighbors) + \" nearest neighbors:\")\n",
    "for i in range(neighbors):\n",
    "    print(i + 1, np.around(X_train[data_index[i]], 2), \"\\t dist: \"+ str(np.around(distances[i], 2)))"
   ]
  },
  {
   "cell_type": "markdown",
   "metadata": {
    "id": "AM9Zxd5UDdvE"
   },
   "source": [
    "<span style=\"color:red;\">**Question 1-3**: What is the distance of the test data from the top 1 nearest neighbor? Limit to 2 decimal places.</span>"
   ]
  },
  {
   "cell_type": "markdown",
   "metadata": {
    "id": "_kJ9rFnFDdvF"
   },
   "source": [
    "To check the labels of the k nearest neighbors, we just apply the index onto `y_train`."
   ]
  },
  {
   "cell_type": "code",
   "execution_count": null,
   "metadata": {
    "id": "0W57OGMpDdvM",
    "outputId": "dbe089bb-a197-4cac-c92b-3e3be4367ba4"
   },
   "outputs": [],
   "source": [
    "y_train[data_index]"
   ]
  },
  {
   "cell_type": "markdown",
   "metadata": {
    "id": "BlyG8nPbDdvN"
   },
   "source": [
    "<span style=\"color:red;\">**Question 1-4**: What is the class of the test case?</span>"
   ]
  },
  {
   "cell_type": "markdown",
   "metadata": {
    "id": "jSGFO3WXDdvQ"
   },
   "source": [
    "## Hyperparameter k\n",
    "\n",
    "By now, you would have noticed that the value of *k* will affect the result the result of the classifier. Choosing a good *k* is important, and we can do sample runs to see which *k* works best for us.\n",
    "\n",
    "*Hyperparameters* like *k* affect how the model learns, and are usually \"set\" before modelling begins. They are different from regular *parameters* in a model. They are normally considered \"higher level\" because they also help estimate model *parameters*. *Parameters* can be estimated by some analytic solution based on the data, while *hyperparameters* can not. Since knn is non-parametric, we haven't encountered any *parameters* yet.\n",
    "\n",
    "In `KNeighborsClassifier`, we can control the value of *k*, too."
   ]
  },
  {
   "cell_type": "markdown",
   "metadata": {},
   "source": [
    "Let's add in a single test case to see how it will be classified by kNN."
   ]
  },
  {
   "cell_type": "code",
   "execution_count": null,
   "metadata": {
    "id": "c0SrZVG0DdvR"
   },
   "outputs": [],
   "source": [
    "X_test = [[2, 2]] "
   ]
  },
  {
   "cell_type": "markdown",
   "metadata": {
    "id": "vFlz6fGoDdvT"
   },
   "source": [
    "Instantiate a `KNeighborsClassifier` object. Set the number of neighbors to 5. Assign the object to variable `model`."
   ]
  },
  {
   "cell_type": "code",
   "execution_count": null,
   "metadata": {
    "id": "2lw0I7QxDdvT"
   },
   "outputs": [],
   "source": [
    "# Write your code here\n"
   ]
  },
  {
   "cell_type": "markdown",
   "metadata": {
    "id": "jlKwVkTJDdvT"
   },
   "source": [
    "Train the model."
   ]
  },
  {
   "cell_type": "code",
   "execution_count": null,
   "metadata": {
    "id": "sEK5c66TDdvT",
    "outputId": "c48e6bc0-4f4a-459b-9d8a-2dd44e6808ca"
   },
   "outputs": [],
   "source": [
    "# Write your code here\n"
   ]
  },
  {
   "cell_type": "markdown",
   "metadata": {
    "id": "9gQZn6FWDdvU"
   },
   "source": [
    "Test the model."
   ]
  },
  {
   "cell_type": "code",
   "execution_count": null,
   "metadata": {
    "id": "zWjMR0DfDdvU",
    "outputId": "91cb0a01-a8d8-4e95-bece-d1fac641f8e3"
   },
   "outputs": [],
   "source": [
    "# Write your code here\n"
   ]
  },
  {
   "cell_type": "markdown",
   "metadata": {
    "id": "reUGtRN3DdvU"
   },
   "source": [
    "<span style=\"color:red;\">**Question 1-5**: What is the class of the test case given that `k` is set to 5?</span>"
   ]
  },
  {
   "cell_type": "markdown",
   "metadata": {
    "id": "49LAar_pDdvd"
   },
   "source": [
    "### Test Data\n",
    "So far, we only have one test case. But we can test more than one sample data at a time, we just need to populate more samples in our `X_test`."
   ]
  },
  {
   "cell_type": "code",
   "execution_count": null,
   "metadata": {
    "id": "s78PnWqODdve"
   },
   "outputs": [],
   "source": [
    "X_test = [[0, 0], [1, 1], [2, 2], [3, 3], [4, 4]]"
   ]
  },
  {
   "cell_type": "markdown",
   "metadata": {},
   "source": [
    "Test the model."
   ]
  },
  {
   "cell_type": "code",
   "execution_count": null,
   "metadata": {
    "id": "njzxHHPQDdve",
    "outputId": "59a1ae37-7d56-4e61-ca04-570e0aaff39b",
    "scrolled": true
   },
   "outputs": [],
   "source": [
    "# Write your code here\n"
   ]
  },
  {
   "cell_type": "markdown",
   "metadata": {
    "id": "tvNEX15_Ddve"
   },
   "source": [
    "The output should be an array with `n` elements, where `n` is the size of `X_test`. The predictions will come in the same order."
   ]
  },
  {
   "cell_type": "markdown",
   "metadata": {},
   "source": [
    "<span style=\"color:red;\">**Question 1-6**: What is the predicted class of the second instance in the test set?</span>"
   ]
  },
  {
   "cell_type": "markdown",
   "metadata": {
    "id": "Qn1zucbgDdvf"
   },
   "source": [
    "## Evaluating the performance"
   ]
  },
  {
   "cell_type": "markdown",
   "metadata": {
    "id": "u0CNbx3HDdvf"
   },
   "source": [
    "In reality, our validation/test data will have proper labels/ground truths to compare our model's predictions with. \n",
    "\n",
    "Here, we will define `y_test` which are the ground truth labels of our `X_test` data. Note that `X_test` and `y_test` should have the same length."
   ]
  },
  {
   "cell_type": "code",
   "execution_count": null,
   "metadata": {
    "id": "G9q2dBa5Ddvf"
   },
   "outputs": [],
   "source": [
    "X_test = [[0, 0], [1, 1], [2, 2], [3, 3], [4, 4]]\n",
    "y_test = [     1,      1,      1,      0,     0] "
   ]
  },
  {
   "cell_type": "markdown",
   "metadata": {
    "id": "-hP2qaFfDdvf"
   },
   "source": [
    "Predict the classes of the test set and assign the return value to variable `y_predicted`."
   ]
  },
  {
   "cell_type": "code",
   "execution_count": null,
   "metadata": {
    "id": "JyuYuB36Ddvh"
   },
   "outputs": [],
   "source": [
    "# Write your code here\n"
   ]
  },
  {
   "cell_type": "markdown",
   "metadata": {},
   "source": [
    "Import the function `accuracy_score()` and the function `classification_report()` to evaluate the performance of our model."
   ]
  },
  {
   "cell_type": "code",
   "execution_count": null,
   "metadata": {},
   "outputs": [],
   "source": [
    "from sklearn.metrics import accuracy_score, classification_report"
   ]
  },
  {
   "cell_type": "markdown",
   "metadata": {
    "id": "9i3loxo9Ddvi"
   },
   "source": [
    "Print out the performance metrics given the actual results vs the predictions."
   ]
  },
  {
   "cell_type": "code",
   "execution_count": null,
   "metadata": {
    "id": "CLGf0juRDdvi",
    "outputId": "5e859f7e-109a-4c59-c958-76b2787864ee"
   },
   "outputs": [],
   "source": [
    "# Write your code here\n"
   ]
  },
  {
   "cell_type": "markdown",
   "metadata": {},
   "source": [
    "<span style=\"color:red;\">**Question 1-7**: What is the accuracy of our model on the test set? Answer should be a real number from 0.0 to 1.0. Limit to 2 decimal places.</span>"
   ]
  },
  {
   "cell_type": "markdown",
   "metadata": {
    "id": "O5X43lNJDdvk"
   },
   "source": [
    "### Split data set\n",
    "We don't need to manually split our training data from test data. Most of the time, manually splitting your data will be a source of partiality because you may un/consciously be choosing \"good\" or \"easy-to-predict\" data for the model to predict.\n",
    "\n",
    "`sklearn` also has a module that allows us to easily split our data intro training and testing data. "
   ]
  },
  {
   "cell_type": "markdown",
   "metadata": {
    "id": "MeI9RUqMDdvl"
   },
   "source": [
    "Combine `X_train` and `X_test` and assign it to variable `X`."
   ]
  },
  {
   "cell_type": "code",
   "execution_count": null,
   "metadata": {
    "id": "pUNkWFOWDdvl"
   },
   "outputs": [],
   "source": [
    "# Write your code here\n"
   ]
  },
  {
   "cell_type": "markdown",
   "metadata": {
    "id": "7-U3ZTnWDdvm"
   },
   "source": [
    "Combine `y_train` and `y_test` and assign it to variable `y`."
   ]
  },
  {
   "cell_type": "code",
   "execution_count": null,
   "metadata": {
    "id": "WauTp9hvDdvn"
   },
   "outputs": [],
   "source": [
    "# Write your code here\n"
   ]
  },
  {
   "cell_type": "markdown",
   "metadata": {},
   "source": [
    "Import the function `train_test_split()`."
   ]
  },
  {
   "cell_type": "code",
   "execution_count": null,
   "metadata": {},
   "outputs": [],
   "source": [
    "from sklearn.model_selection import train_test_split"
   ]
  },
  {
   "cell_type": "markdown",
   "metadata": {
    "id": "1zXnh3tiDdvo"
   },
   "source": [
    "Use the function `train_test_split()` to split the data into train and test sets. Make the test size 33% of the entire data. Set the `random_state` to 1. Assign the return value to the variable `all_sets`."
   ]
  },
  {
   "cell_type": "code",
   "execution_count": null,
   "metadata": {},
   "outputs": [],
   "source": [
    "all_sets = train_test_split(X, y, test_size=0.33, random_state=1)"
   ]
  },
  {
   "cell_type": "code",
   "execution_count": null,
   "metadata": {
    "id": "4j0VXIlpDdvp",
    "outputId": "23e01a30-9fc7-4736-fd9c-9dd265dc5f11"
   },
   "outputs": [],
   "source": [
    "X_train, X_test, y_train, y_test = all_sets\n",
    "\n",
    "print(\"X train: \\n\" + str(X_train))\n",
    "print(\"y train: \\n\" + str(y_train))\n",
    "print(\"X test: \\n\" + str(X_test))\n",
    "print(\"y test: \\n\" + str(y_test))"
   ]
  },
  {
   "cell_type": "markdown",
   "metadata": {
    "id": "zuc9G_wQDdvq"
   },
   "source": [
    "Do you think we will come up with a different result if we had a different train and test set?"
   ]
  },
  {
   "cell_type": "markdown",
   "metadata": {
    "id": "fuvXdTdJDdvq"
   },
   "source": [
    "<span style=\"color:red;\">**Question 1-8**: How many instances belong to class `1` in the resulting training set?</span>"
   ]
  },
  {
   "cell_type": "markdown",
   "metadata": {
    "id": "w4yw2M5wDdvr"
   },
   "source": [
    "A: 6"
   ]
  },
  {
   "cell_type": "markdown",
   "metadata": {
    "id": "nlGs3uMCDdvr"
   },
   "source": [
    "And, then do modelling like normal. Create a knn classifier with a k of 3."
   ]
  },
  {
   "cell_type": "markdown",
   "metadata": {},
   "source": [
    "Instantiate a `KNeighborsClassifier` object with `k` set to 3. Assign the object to variable `model`."
   ]
  },
  {
   "cell_type": "code",
   "execution_count": null,
   "metadata": {
    "id": "ydzV-veYDdvr"
   },
   "outputs": [],
   "source": [
    "# Write your code here\n"
   ]
  },
  {
   "cell_type": "markdown",
   "metadata": {},
   "source": [
    "Train the model."
   ]
  },
  {
   "cell_type": "code",
   "execution_count": null,
   "metadata": {},
   "outputs": [],
   "source": [
    "# Write your code here\n"
   ]
  },
  {
   "cell_type": "markdown",
   "metadata": {},
   "source": [
    "Predict the classes of the test set and assign the return value to variable `y_predicted`."
   ]
  },
  {
   "cell_type": "code",
   "execution_count": null,
   "metadata": {},
   "outputs": [],
   "source": [
    "# Write your code here\n"
   ]
  },
  {
   "cell_type": "markdown",
   "metadata": {},
   "source": [
    "Get the accuracy of the model."
   ]
  },
  {
   "cell_type": "code",
   "execution_count": null,
   "metadata": {
    "id": "N9dL4kDDDdvs",
    "outputId": "c96d292e-ab99-4b81-95dc-43e84320093d"
   },
   "outputs": [],
   "source": [
    "# Write your code here\n"
   ]
  },
  {
   "cell_type": "markdown",
   "metadata": {},
   "source": [
    "<span style=\"color:red;\">**Question 1-9**: What is the accuracy of our model on the test set? Answer should be a real number from 0.0 to 1.0. Limit to 2 decimal places.</span>"
   ]
  },
  {
   "cell_type": "markdown",
   "metadata": {
    "id": "LVRWfABUDdv8"
   },
   "source": [
    "## Cross validation\n",
    "\n",
    "Cross validation is a type of validation technique that suits smaller datasets. We will discuss more about validation and cross validation in our lecture on Regularization.\n",
    "\n",
    "__What does cross validation do?__\n",
    "Cross validation is a kind of splitting similar to what we did in the cells before. Cross validation will give us `k` train and validation data. It does in such a way that each data point will eventually become a validation data.\n",
    "\n",
    "> The `k` in `k`-fold cross validation is different from `k` nearest neighbors\n",
    "\n",
    "To avoid confusion, we will explicitly call the `k` in `k` nearest neighbors as the hyperparameter `k`, and call the `k` in `k`-fold as `k-fold`/`s`.\n",
    "\n",
    "Cross validation is an alternative to split testing where we never shuffle train and test together in further experiments. It is a good option if you have few data points, and you cannot afford to lose any data as test data.\n",
    "\n",
    "__Determining hyperparameters.__ Validation is also a way for us to determine a good value for our *k* in k-nearest neighbors. Instead of blindly choosing our hyperparameter, we will do multiple experiments using cross validation to see which one will give us the best results.\n",
    "\n",
    "> Right now, we are switching between *validation* and *test* data in the text. For now, we will treat them similarly. But just know that they are two different things."
   ]
  },
  {
   "cell_type": "code",
   "execution_count": null,
   "metadata": {
    "id": "xHFxeQznDdwE",
    "scrolled": true
   },
   "outputs": [],
   "source": [
    "from sklearn.model_selection import cross_val_predict, cross_val_score"
   ]
  },
  {
   "cell_type": "markdown",
   "metadata": {
    "id": "R_WKr_dHDdwF"
   },
   "source": [
    "The function `cross_val_predict()` does the data splitting, the training, and the cross-validation. Try getting the predictions using a `k-fold` of 10 and assign the return value to variable `predictions`."
   ]
  },
  {
   "cell_type": "code",
   "execution_count": null,
   "metadata": {
    "id": "sHZcbbr6DdwF"
   },
   "outputs": [],
   "source": [
    "# Write your code here\n"
   ]
  },
  {
   "cell_type": "markdown",
   "metadata": {
    "id": "iGCpLRNeDdwF"
   },
   "source": [
    "Get the accuracy of the model."
   ]
  },
  {
   "cell_type": "code",
   "execution_count": null,
   "metadata": {
    "id": "L2tZIM5LDdwG",
    "outputId": "c4ffd689-e87c-4180-fcfd-529bd6acf966"
   },
   "outputs": [],
   "source": [
    "# Write your code here\n"
   ]
  },
  {
   "cell_type": "markdown",
   "metadata": {
    "id": "mcV5qnacDdwG"
   },
   "source": [
    "You may also use the function `cross_val_score()` to get the actual accuracy from each fold in the k-fold cross validation, where `k-fold` is 10, and assign the return value to variable `scores`."
   ]
  },
  {
   "cell_type": "code",
   "execution_count": null,
   "metadata": {
    "id": "C2-YXWl7DdwG",
    "outputId": "76dd1308-0415-4432-c382-9b6e4ebe76d9",
    "scrolled": true
   },
   "outputs": [],
   "source": [
    "# Write your code here\n"
   ]
  },
  {
   "cell_type": "markdown",
   "metadata": {},
   "source": [
    "Print the scores per fold (experiment)."
   ]
  },
  {
   "cell_type": "code",
   "execution_count": null,
   "metadata": {},
   "outputs": [],
   "source": [
    "print(\"Scores per fold :\\n\" + str(scores))\n",
    "print(\"Average accuracy : \" + str(np.sum(scores) / len(scores)))"
   ]
  },
  {
   "cell_type": "markdown",
   "metadata": {
    "id": "EYUQhOmdDdwH"
   },
   "source": [
    "<span style=\"color:red;\">**Question 1-10:** What is the average accuracy of the 10 folds? Express the answer in decimal, not percentage. Round off to two decimal places.</span>"
   ]
  },
  {
   "cell_type": "markdown",
   "metadata": {
    "id": "JvvSPjA2Ddwg"
   },
   "source": [
    "## Training with a real-world dataset (cifar-10)\n",
    "\n",
    "*This part of the exercise is a modified version of the exercise from cs231n class at Stanford University.\n",
    "\n",
    "In this section of the exercise, we will be training a classifier on the `cifar-10` dataset. The `cifar-10` dataset is an image dataset thata consists of `60,000` `32x32` colored images separated into 10 classes (`6,000` images per class):\n",
    "* plane \t\t\t\t\t\t\t\t\t\t\n",
    "* car \t\t\t\t\t\t\t\t\t\t\n",
    "* bird \t\t\t\t\t\t\t\t\t\t\n",
    "* cat \t\t\t\t\t\t\t\t\t\t\n",
    "* deer \t\t\t\t\t\t\t\t\t\t\n",
    "* dog \t\t\t\t\t\t\t\t\t\t\n",
    "* frog \t\t\t\t\t\t\t\t\t\t\n",
    "* horse \t\t\t\t\t\t\t\t\t\t\n",
    "* ship \t\t\t\t\t\t\t\t\t\t\n",
    "* truck \t\n",
    "\n",
    "Our task is to train a kNN classifier to accept an image input and determine which among the 10 classes listed above the image belongs to.\n",
    "\n",
    "To continue with this portion of the notebook, please download the `cifar-10` dataset from this link: https://www.cs.toronto.edu/~kriz/cifar-10-python.tar.gz.\n",
    "\n",
    "You can read more about `cifar-10` here: https://www.cs.toronto.edu/~kriz/cifar.html"
   ]
  },
  {
   "cell_type": "markdown",
   "metadata": {
    "id": "YcP8YDwMDdwh"
   },
   "source": [
    "### Loading the cifar-10 data\n",
    "Let's start by loading our data.\n",
    "\n",
    "These functions are used to load the `cifar` batch data. Take note that this is not how we normally load image data but we are doing so because of the `cifar` batches are designed."
   ]
  },
  {
   "cell_type": "code",
   "execution_count": null,
   "metadata": {
    "id": "EoqUtkvNDdwh"
   },
   "outputs": [],
   "source": [
    "def load_CIFAR_batch(filename):\n",
    "    \"\"\" load single batch of cifar \"\"\"\n",
    "    with open(filename, 'rb') as f:\n",
    "        datadict = pickle.load(f, encoding='latin1')\n",
    "        X = datadict['data']\n",
    "        Y = datadict['labels']\n",
    "        \n",
    "        # This code reformats the data back to the 10,000 32x32 colored image format (multiplied by 6 batches)\n",
    "        X = X.reshape(10000, 3, 32, 32).transpose(0, 2, 3, 1).astype(\"float\")\n",
    "        Y = np.array(Y)\n",
    "        \n",
    "        return X, Y\n",
    "\n",
    "def load_CIFAR10(ROOT):\n",
    "    \"\"\" load all of cifar \"\"\"\n",
    "    xs = []\n",
    "    ys = []\n",
    "    for b in range(1,6):\n",
    "        f = os.path.join(ROOT, 'data_batch_%d' % (b))\n",
    "        X, Y = load_CIFAR_batch(f)\n",
    "        xs.append(X)\n",
    "        ys.append(Y)    \n",
    "    X_train = np.concatenate(xs)\n",
    "    Y_train = np.concatenate(ys)\n",
    "    del X, Y\n",
    "    X_test, Y_test = load_CIFAR_batch(os.path.join(ROOT, 'test_batch'))\n",
    "    return X_train, Y_train, X_test, Y_test"
   ]
  },
  {
   "cell_type": "markdown",
   "metadata": {
    "id": "t7gmN-8SDdwh"
   },
   "source": [
    "Make sure that the `cifar-10` folder is in the same directory as this notebook. If the name or path of the folder is different, adjust it accordingly."
   ]
  },
  {
   "cell_type": "code",
   "execution_count": null,
   "metadata": {
    "id": "1rKGgPcIDdwx"
   },
   "outputs": [],
   "source": [
    "cifar10_dir = 'cifar-10/'"
   ]
  },
  {
   "cell_type": "code",
   "execution_count": null,
   "metadata": {
    "id": "6mf_Ox1lDdwx"
   },
   "outputs": [],
   "source": [
    "X_train, y_train, X_test, y_test = load_CIFAR10(cifar10_dir)"
   ]
  },
  {
   "cell_type": "markdown",
   "metadata": {
    "id": "7h2USL7aDdwy"
   },
   "source": [
    "Print out the sizes of the training and test data."
   ]
  },
  {
   "cell_type": "code",
   "execution_count": null,
   "metadata": {
    "id": "tD1U5wQzDdwy",
    "outputId": "bfefe0f4-863b-48f8-d777-65e4112ded12"
   },
   "outputs": [],
   "source": [
    "print('Training data shape: ', X_train.shape)\n",
    "print('Training labels shape: ', y_train.shape)\n",
    "print('Test data shape: ', X_test.shape)\n",
    "print('Test labels shape: ', y_test.shape)"
   ]
  },
  {
   "cell_type": "markdown",
   "metadata": {
    "id": "t_DxXyXxDdwy"
   },
   "source": [
    "Our training and test data is in the shape of `(50000, 32, 32, 3)` and `(10000, 32, 32, 3)`. The first number in the tuple, i.e., 50000 and 10000, refers to the number of images in the train and test set, respectively. The second and third number in the tuple, i.e., 32 and 32, refers to the width and the height of the image, respectively. The last number in the tuple, i.e., 3 and 3, refers to the number of channels."
   ]
  },
  {
   "cell_type": "markdown",
   "metadata": {
    "id": "5HmdeuklDdwz"
   },
   "source": [
    "### Visualize\n",
    "Let's visualize some examples from the dataset.  We show a few examples of training images from each class.\n",
    "\n",
    "`y_train` currently lists the classes as numbers from `0-9`. They are mapped to the its named labels as so:"
   ]
  },
  {
   "cell_type": "code",
   "execution_count": null,
   "metadata": {
    "id": "7pIy2TFhDdw0"
   },
   "outputs": [],
   "source": [
    "classes = ['plane', 'car', 'bird', 'cat', 'deer', 'dog', 'frog', 'horse', 'ship', 'truck']"
   ]
  },
  {
   "cell_type": "code",
   "execution_count": null,
   "metadata": {
    "id": "qvL2KuUiDdw0",
    "outputId": "8912771b-9590-4459-d0dd-fd8e7f00aa0f"
   },
   "outputs": [],
   "source": [
    "num_classes = len(classes)\n",
    "samples_per_class = 7\n",
    "\n",
    "for y, cls in enumerate(classes):\n",
    "    idxs = np.flatnonzero(y_train == y)\n",
    "    idxs = np.random.choice(idxs, samples_per_class, replace=False) \n",
    "    for i, idx in enumerate(idxs):\n",
    "        # show items in column (per class)\n",
    "        plt_idx = i * num_classes + y + 1\n",
    "        plt.subplot(samples_per_class, num_classes, plt_idx)\n",
    "        plt.imshow(X_train[idx].astype('uint8'))\n",
    "        plt.axis('off')\n",
    "        if i == 0:\n",
    "            plt.title(cls)\n",
    "plt.show()"
   ]
  },
  {
   "cell_type": "markdown",
   "metadata": {
    "id": "IAP_S3CyDdw1"
   },
   "source": [
    "While we can use all 60,000 images to train and test our model, we also want to be time and memory efficient and not torture our machine. For the purposes of this exercise, we will just subsample our total data.\n",
    "\n",
    "**Note**: You can use all 60,000 images but do so at your own peril."
   ]
  },
  {
   "cell_type": "markdown",
   "metadata": {
    "id": "f7qJ4O4lDdw1"
   },
   "source": [
    "This will be our new training and test data count:"
   ]
  },
  {
   "cell_type": "code",
   "execution_count": null,
   "metadata": {
    "id": "ZPcxvVutDdw1"
   },
   "outputs": [],
   "source": [
    "num_training = 5000\n",
    "num_test = 500"
   ]
  },
  {
   "cell_type": "markdown",
   "metadata": {
    "id": "Tann51cEDdw1"
   },
   "source": [
    "We use this new count to mask our data. The `mask` in the code below is just an array from `0` to `num_training` and `num_test`. By applying the mask, we are getting getting the first `5,000` and first `500` images from our training and test data."
   ]
  },
  {
   "cell_type": "code",
   "execution_count": null,
   "metadata": {
    "id": "gLM1c4JcDdw2"
   },
   "outputs": [],
   "source": [
    "mask = range(num_training)\n",
    "X_train = X_train[mask]\n",
    "y_train = y_train[mask]\n",
    "\n",
    "mask = range(num_test)\n",
    "X_test = X_test[mask]\n",
    "y_test = y_test[mask]"
   ]
  },
  {
   "cell_type": "markdown",
   "metadata": {
    "id": "lt8lL1jPDdw2"
   },
   "source": [
    "Before you do this next time, please know that your masked data should be stratified or representative of the overall data. Fortunately, cifar is arranged in a way that makes this type of masking work.\n",
    "\n",
    "Below, we can see that the histogram of `y_train` and `y_test` has around the same number of instances/images per class:"
   ]
  },
  {
   "cell_type": "code",
   "execution_count": null,
   "metadata": {
    "id": "icBCnK3EDdw2",
    "outputId": "40541e99-1e60-44f2-817a-a4b0c67dc34a"
   },
   "outputs": [],
   "source": [
    "plt.hist(y_train)"
   ]
  },
  {
   "cell_type": "code",
   "execution_count": null,
   "metadata": {
    "id": "kE0_4qypDdw3",
    "outputId": "09d386cf-3b86-4acf-97fe-0af747e80327"
   },
   "outputs": [],
   "source": [
    "plt.hist(y_test)"
   ]
  },
  {
   "cell_type": "markdown",
   "metadata": {
    "id": "TDsnWcqUDdw3"
   },
   "source": [
    "**Note:** We could make it more even, but this is balanced enough for this exercise."
   ]
  },
  {
   "cell_type": "markdown",
   "metadata": {
    "id": "5YUhwjKfDdw4"
   },
   "source": [
    "### Reformatting our data\n",
    "\n",
    "Most machine learning models expect a certain format of its input: a single instance/entry is represented as a (1-dimensional) vector. Unfortunately, one instance/image in our `cifar` dataset is currently in a 3-d structure (32x32x3). To force our images to be accepted by kNN, we will have to reshape them in a way to make them 1-d.\n",
    "\n",
    "We can do this by laying the pixels (and its channels) end-to-end to create a single vector. Fortunately, this is very easy to implement with `np.reshape()`."
   ]
  },
  {
   "cell_type": "markdown",
   "metadata": {},
   "source": [
    "Perform the reshaping of `X_train` to a single vector using the function `reshape()` and assign the return value to the variable `X_train`."
   ]
  },
  {
   "cell_type": "code",
   "execution_count": null,
   "metadata": {},
   "outputs": [],
   "source": [
    "# Write your code here\n"
   ]
  },
  {
   "cell_type": "markdown",
   "metadata": {},
   "source": [
    "Perform the reshaping of `X_test` to a single vector using the function `reshape()` and assign the return value to the variable `X_test`."
   ]
  },
  {
   "cell_type": "code",
   "execution_count": null,
   "metadata": {
    "id": "tLAgBSgCDdw4"
   },
   "outputs": [],
   "source": [
    "# Write your code here\n"
   ]
  },
  {
   "cell_type": "markdown",
   "metadata": {
    "id": "sdQsLnheDdw4"
   },
   "source": [
    "<span style=\"color:red;\">**Question 1-11:** What is our target shape of `X_train`?</span>"
   ]
  },
  {
   "cell_type": "markdown",
   "metadata": {
    "id": "DZz6M7crDdw5"
   },
   "source": [
    "<span style=\"color:red;\">**Question 1-12:** What is our target shape of `X_test`?</span>"
   ]
  },
  {
   "cell_type": "markdown",
   "metadata": {
    "id": "DCqFA3uVDdxY"
   },
   "source": [
    "### Training our `cifar-10` classifier\n",
    "\n",
    "Instantiate a `KNeighborsClassifier` object. Set the number of neighbors to 5. Assign the object to variable `model`."
   ]
  },
  {
   "cell_type": "code",
   "execution_count": null,
   "metadata": {},
   "outputs": [],
   "source": [
    "# Write your code here\n"
   ]
  },
  {
   "cell_type": "markdown",
   "metadata": {},
   "source": [
    "Train the model."
   ]
  },
  {
   "cell_type": "code",
   "execution_count": null,
   "metadata": {},
   "outputs": [],
   "source": [
    "# Write your code here\n"
   ]
  },
  {
   "cell_type": "markdown",
   "metadata": {},
   "source": [
    "Predict the classes of the test set and assign the return value to variable `y_predicted`."
   ]
  },
  {
   "cell_type": "code",
   "execution_count": null,
   "metadata": {},
   "outputs": [],
   "source": [
    "# Write your code here\n"
   ]
  },
  {
   "cell_type": "markdown",
   "metadata": {
    "id": "N9XsC_ckDdxY"
   },
   "source": [
    "Use the function `classification_report()` to get the evaluation metric per class. The correct name of the class should be shown, not the corresponding number."
   ]
  },
  {
   "cell_type": "code",
   "execution_count": null,
   "metadata": {
    "id": "CLo7BmNZDdxZ",
    "outputId": "7fd2563a-8641-45cf-b55a-197e14f0efad"
   },
   "outputs": [],
   "source": [
    "# Write your code here\n"
   ]
  },
  {
   "cell_type": "markdown",
   "metadata": {},
   "source": [
    "<span style=\"color:red;\">**Question 1-13**: What is the accuracy of our model on the test set? Answer should be a real number from 0.0 to 1.0. Limit to 2 decimal places.</span>"
   ]
  },
  {
   "cell_type": "markdown",
   "metadata": {
    "id": "9E-tCnT5DdxZ"
   },
   "source": [
    "### Cross-validation\n",
    "\n",
    "We have implemented the k-Nearest Neighbor classifier but we set the hyperparameter value `k = 5` arbitrarily. __We will now determine the best value of this hyperparameter with cross-validation.__\n",
    "\n",
    "Use the function `sklearn.model_selection.cross_val_score()` to do this."
   ]
  },
  {
   "cell_type": "code",
   "execution_count": null,
   "metadata": {
    "id": "qBEdru83Ddxa"
   },
   "outputs": [],
   "source": [
    "from sklearn.model_selection import cross_val_score"
   ]
  },
  {
   "cell_type": "markdown",
   "metadata": {
    "id": "uFc5o_BUDdxb"
   },
   "source": [
    "We set the `k_folds` value to 5"
   ]
  },
  {
   "cell_type": "code",
   "execution_count": null,
   "metadata": {
    "id": "9bCGgYuCDdxb"
   },
   "outputs": [],
   "source": [
    "k_folds = 5"
   ]
  },
  {
   "cell_type": "markdown",
   "metadata": {
    "id": "m_viULpeDdxb"
   },
   "source": [
    "And, we will give an array of choices for the hyperparameter `k`."
   ]
  },
  {
   "cell_type": "code",
   "execution_count": null,
   "metadata": {
    "id": "m9hPDmR8Ddxc"
   },
   "outputs": [],
   "source": [
    "k_choices = [1, 3, 5, 8, 10, 12, 15, 20, 50, 100]"
   ]
  },
  {
   "cell_type": "markdown",
   "metadata": {
    "id": "T8zkssUJDdxc"
   },
   "source": [
    "Our goal here is to keep a matrix called `scores` where each row corresponds to a hyperparameter `k`, and each column is the validation score for that fold.\n",
    "\n",
    "The final `scores` matrix will look like this:\n",
    "\n",
    "|     k | `k_fold=1` | `k_fold=2` | `k_fold=3` | `k_fold=4` | `k_fold=5` |\n",
    "|------:|----------|----------|----------|----------|----------|\n",
    "|   `k=1` | 0.269    | 0.246    | 0.273    | 0.283    | 0.264    |\n",
    "|   `k=3` | 0.247    | 0.24     | 0.243    | 0.269    | 0.245    |\n",
    "|   `k=5` | 0.258    | 0.251    | 0.285    | 0.288    | 0.271    |\n",
    "|   `k=8` | 0.273    | 0.274    | 0.285    | 0.294    | 0.271    |\n",
    "|  `k=10` | 0.277    | 0.287    | 0.286    | 0.283    | 0.275    |\n",
    "|  `k=12` | 0.274    | 0.282    | 0.283    | 0.286    | 0.277    |\n",
    "|  `k=15` | 0.261    | 0.278    | 0.28     | 0.286    | 0.274    |\n",
    "|  `k=20` | 0.281    | 0.269    | 0.282    | 0.281    | 0.28     |\n",
    "|  `k=50` | 0.278    | 0.268    | 0.286    | 0.27     | 0.264    |\n",
    "| `k=100` | 0.267    | 0.258    | 0.273    | 0.261    | 0.265    |\n",
    "\n",
    "For now we will just set the `scores` matrix to 0s."
   ]
  },
  {
   "cell_type": "code",
   "execution_count": null,
   "metadata": {
    "id": "GUR0GYDoDdxc"
   },
   "outputs": [],
   "source": [
    "scores = np.zeros((len(k_choices), k_folds))"
   ]
  },
  {
   "cell_type": "markdown",
   "metadata": {
    "id": "2PlkvrIADdxd"
   },
   "source": [
    "Now that we have set those variables, we can start creating models with varying values for the hyperparameter `k`."
   ]
  },
  {
   "cell_type": "code",
   "execution_count": null,
   "metadata": {
    "id": "nkaTyb8iDdxd",
    "outputId": "2794fec1-3489-4d3d-b5ad-072d64caf850"
   },
   "outputs": [],
   "source": [
    "for i in range(len(k_choices)):\n",
    "    print(\"k is : \" + str(k_choices[i]))\n",
    "    # Write your code here\n",
    "    pass"
   ]
  },
  {
   "cell_type": "markdown",
   "metadata": {
    "id": "G6q_nrbHDdxd"
   },
   "source": [
    "__Sanity check :__ Don't worry. Running this really takes some time."
   ]
  },
  {
   "cell_type": "markdown",
   "metadata": {
    "id": "0mAhU4T7Ddxd"
   },
   "source": [
    "### Choosing the best hyperparameter `k`\n",
    "\n",
    "To choose the best hyperparameter `k`, let's try to visualize the results."
   ]
  },
  {
   "cell_type": "code",
   "execution_count": null,
   "metadata": {
    "id": "3jouDytTDdxe",
    "outputId": "4c1092b8-c607-4077-d2c9-0403391ed0b1"
   },
   "outputs": [],
   "source": [
    "def plot_scatter(scores):\n",
    "    for i in range(len(scores)):\n",
    "        x=[k_choices[i]] * 5\n",
    "        plt.scatter(x, scores[i])\n",
    "        \n",
    "plot_scatter(scores)"
   ]
  },
  {
   "cell_type": "markdown",
   "metadata": {
    "id": "D1mLm7TZDdxe"
   },
   "source": [
    "We will create a box-plot for each hyperparameter `k`. To do that, we will find the mean and standard deviation of the `k_fold` scores of each hyperparameter `k`."
   ]
  },
  {
   "cell_type": "markdown",
   "metadata": {
    "id": "gruC3kG3Ddxe"
   },
   "source": [
    "Use `np.mean` to get the average accuracy per kNN model. Note that you will need to use the `axis` parameter here. Your output should have a shape of `(10,)`"
   ]
  },
  {
   "cell_type": "code",
   "execution_count": null,
   "metadata": {
    "id": "0tViX8QQDdxe"
   },
   "outputs": [],
   "source": [
    "# Write your code here\n"
   ]
  },
  {
   "cell_type": "markdown",
   "metadata": {
    "id": "JA772UtBDdxf"
   },
   "source": [
    "Use `np.std` to get the average accuracy per kNN model. Note that you will need to use the `axis` parameter here. Your output should also have a shape of `(10,)`"
   ]
  },
  {
   "cell_type": "code",
   "execution_count": null,
   "metadata": {
    "id": "h8Y0eOakDdxf"
   },
   "outputs": [],
   "source": [
    "# Write your code here\n"
   ]
  },
  {
   "cell_type": "markdown",
   "metadata": {
    "id": "JNVo5OQ2Ddxf"
   },
   "source": [
    "<!--crumb;chart;cifar cv plot-->"
   ]
  },
  {
   "cell_type": "code",
   "execution_count": null,
   "metadata": {
    "id": "EzOsrcV8Ddxf",
    "outputId": "c02b0735-3ddb-4fb3-cf6c-3de76b261dc1",
    "scrolled": false
   },
   "outputs": [],
   "source": [
    "plot_scatter(scores)\n",
    "\n",
    "plt.errorbar(k_choices, avg_scores, yerr=stddev_scores)\n",
    "plt.title('Cross-validation on k')\n",
    "plt.xlabel('k')\n",
    "plt.ylabel('Cross-validation accuracy')"
   ]
  },
  {
   "cell_type": "markdown",
   "metadata": {
    "id": "FPuea5xhDdxg"
   },
   "source": [
    "### Choosing the model with the best hyperparameter\n",
    "\n",
    "Based on the cross-validation results above, choose the best value for k, retrain the classifier using all `5,000` training data, and test it on the `500` test data. You should be able to get above 28% accuracy on the test data."
   ]
  },
  {
   "cell_type": "markdown",
   "metadata": {
    "id": "rNEXa2j4Ddxg"
   },
   "source": [
    "<span style=\"color:red;\">**Question 1-14:** What is the best hyperparameter `k`? Base this on the average score.</span>"
   ]
  },
  {
   "cell_type": "markdown",
   "metadata": {
    "id": "KU3tQ4PmDdxh"
   },
   "source": [
    "Train your final `cifar` classifier with the best found hyperparameter `k` from cross-validation, and test it with `X_test`."
   ]
  },
  {
   "cell_type": "markdown",
   "metadata": {},
   "source": [
    "Instantiate a `KNeighborsClassifier` object. Set the number of neighbors to the value of the best `k`. Assign the object to variable `model`."
   ]
  },
  {
   "cell_type": "code",
   "execution_count": null,
   "metadata": {},
   "outputs": [],
   "source": [
    "# Write your code here\n"
   ]
  },
  {
   "cell_type": "markdown",
   "metadata": {},
   "source": [
    "Train the model."
   ]
  },
  {
   "cell_type": "code",
   "execution_count": null,
   "metadata": {},
   "outputs": [],
   "source": [
    "# Write your code here\n"
   ]
  },
  {
   "cell_type": "markdown",
   "metadata": {},
   "source": [
    "Predict the classes of the test set and assign the return value to variable `y_predicted`."
   ]
  },
  {
   "cell_type": "code",
   "execution_count": null,
   "metadata": {},
   "outputs": [],
   "source": [
    "# Write your code here\n"
   ]
  },
  {
   "cell_type": "markdown",
   "metadata": {
    "id": "ntLvsGFgDdxh"
   },
   "source": [
    "Now, compute and display the accuracy of the model."
   ]
  },
  {
   "cell_type": "code",
   "execution_count": null,
   "metadata": {
    "id": "hxX6oXIYDdxj"
   },
   "outputs": [],
   "source": [
    "# Write your code here\n"
   ]
  },
  {
   "cell_type": "code",
   "execution_count": null,
   "metadata": {
    "id": "I22-S-IMDdxj",
    "outputId": "6f8b0efa-cc76-4576-fafc-ad4e8c860e9a"
   },
   "outputs": [],
   "source": [
    "print(\"Got %d / %d correct => accuracy: %f\" % (num_correct, num_test, accuracy))"
   ]
  },
  {
   "cell_type": "markdown",
   "metadata": {
    "id": "cUW8jbWdDdxj"
   },
   "source": [
    "<span style=\"color:red;\">**Question 1-15:** What is the test accuracy of your best `cifar-10` kNN classifier? Limit to 2 decimal places.</span>"
   ]
  },
  {
   "cell_type": "markdown",
   "metadata": {
    "id": "6AReQEU8Ddxk"
   },
   "source": [
    "<span style=\"color:green;\">**Question:** Why do you think KNN performed poorly on the `cifar-10` dataset?</span>"
   ]
  },
  {
   "cell_type": "markdown",
   "metadata": {
    "id": "WWoYZZ1ZDdxk"
   },
   "source": [
    "<span style=\"color:red;\">**Question 1-16:** Think of a hypothetical `cifar-10` classifier that randomly guesses the class. Will your `cifar-10` kNN classifier do better or worse than this hypothetical classifier? Why or why not?</span>"
   ]
  },
  {
   "cell_type": "markdown",
   "metadata": {
    "id": "3f4fTofJDdxl"
   },
   "source": [
    "A: The hypothetical classifier will randomly guess between the 10 classes which will give a ~10% accuracy. The kNN classifier performs better."
   ]
  },
  {
   "cell_type": "markdown",
   "metadata": {
    "id": "vlk6AkHeDdxl"
   },
   "source": [
    "# Conclusion\n",
    "\n",
    "Congratulations! You made your first machine learning model using sci-kit learn. Moreover, you have also gone through the whole training-validating-testing pipeline, and tried to create classifier with a real-world dataset! \n",
    "\n",
    "kNN is not a powerful model, but it has its own use cases. As we try more complex models, we will be introduced to models with a longer training time but faster testing time -- a trait that is good if we want our end users to have faster predictions.\n",
    "\n",
    "Lastly, do not worry if you struggled learning the terms used in this notebook. We will be visiting them again with the succeeding models."
   ]
  },
  {
   "cell_type": "markdown",
   "metadata": {
    "id": "6ng-0zJ8Ddxo"
   },
   "source": [
    "## <center>fin</center>"
   ]
  }
 ],
 "metadata": {
  "anaconda-cloud": {},
  "colab": {
   "name": "00 - knn-basic.ipynb",
   "provenance": []
  },
  "kernelspec": {
   "display_name": "Python 3 (ipykernel)",
   "language": "python",
   "name": "python3"
  },
  "language_info": {
   "codemirror_mode": {
    "name": "ipython",
    "version": 3
   },
   "file_extension": ".py",
   "mimetype": "text/x-python",
   "name": "python",
   "nbconvert_exporter": "python",
   "pygments_lexer": "ipython3",
   "version": "3.10.6"
  }
 },
 "nbformat": 4,
 "nbformat_minor": 1
}
